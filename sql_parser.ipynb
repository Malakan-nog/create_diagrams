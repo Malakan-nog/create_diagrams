{
 "cells": [
  {
   "cell_type": "code",
   "execution_count": 4,
   "metadata": {},
   "outputs": [
    {
     "name": "stdout",
     "output_type": "stream",
     "text": [
      "{'cte1': ['hellow', 'world3'], 'cte2': ['cte1']}\n"
     ]
    }
   ],
   "source": [
    "import sqlglot\n",
    "\n",
    "def extract_ctes_and_tables(sql):\n",
    "    # Parse the SQL query into an AST\n",
    "    expressions = sqlglot.parse_one(sql)\n",
    "    \n",
    "    cte_dict = {}\n",
    "\n",
    "    # Check if the query contains CTEs\n",
    "    if expressions.ctes:\n",
    "        for cte in expressions.ctes:\n",
    "            cte_name = cte.alias_or_name\n",
    "            tables = []\n",
    "\n",
    "            # Extract tables used in the CTE\n",
    "            for table in cte.find_all(sqlglot.exp.Table):\n",
    "                tables.append(table.name)\n",
    "            \n",
    "            cte_dict[cte_name] = tables\n",
    "\n",
    "    return cte_dict\n",
    "\n",
    "# Sample SQL with CTEs\n",
    "sql_query = \"\"\"\n",
    "WITH cte1 AS (\n",
    "    SELECT a.id, b.name\n",
    "    FROM hellow a\n",
    "    JOIN world3 b ON a.id = b.id\n",
    "),\n",
    "cte2 AS (\n",
    "    SELECT id, COUNT(*)\n",
    "    FROM cte1\n",
    "    GROUP BY id\n",
    ")\n",
    "SELECT * FROM cte2;\n",
    "\"\"\"\n",
    "\n",
    "# Extract CTEs and their associated tables\n",
    "ctes_and_tables = extract_ctes_and_tables(sql_query)\n",
    "print(ctes_and_tables)\n"
   ]
  },
  {
   "cell_type": "code",
   "execution_count": null,
   "metadata": {},
   "outputs": [],
   "source": []
  }
 ],
 "metadata": {
  "kernelspec": {
   "display_name": "Python 3",
   "language": "python",
   "name": "python3"
  },
  "language_info": {
   "codemirror_mode": {
    "name": "ipython",
    "version": 3
   },
   "file_extension": ".py",
   "mimetype": "text/x-python",
   "name": "python",
   "nbconvert_exporter": "python",
   "pygments_lexer": "ipython3",
   "version": "3.11.9"
  }
 },
 "nbformat": 4,
 "nbformat_minor": 2
}
